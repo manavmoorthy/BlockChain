{
 "cells": [
  {
   "cell_type": "markdown",
   "metadata": {},
   "source": [
    "# Basic Server Code"
   ]
  },
  {
   "cell_type": "code",
   "execution_count": 1,
   "metadata": {
    "collapsed": true
   },
   "outputs": [],
   "source": [
    "from flask import Flask\n",
    "from flask import request\n",
    "import json\n",
    "import requests\n",
    "import hashlib as hasher\n",
    "import datetime as date"
   ]
  },
  {
   "cell_type": "code",
   "execution_count": 2,
   "metadata": {
    "collapsed": true
   },
   "outputs": [],
   "source": [
    "node = Flask(__name__)"
   ]
  },
  {
   "cell_type": "code",
   "execution_count": 3,
   "metadata": {
    "collapsed": true
   },
   "outputs": [],
   "source": [
    "class Block:\n",
    "    def __init__(self, index, timestamp, data, previous_hash):\n",
    "        self.index = index\n",
    "        self.timestamp = timestamp\n",
    "        self.data = data\n",
    "        self.previous_hash = previous_hash\n",
    "        self.hash = self.hash_block() \n",
    "    def hash_block(self):\n",
    "        sha = hasher.sha256()\n",
    "        sha.update(str(self.index) + str(self.timestamp) + str(self.data) + str(self.previous_hash))\n",
    "        return sha.hexdigest()"
   ]
  },
  {
   "cell_type": "code",
   "execution_count": 4,
   "metadata": {
    "collapsed": true
   },
   "outputs": [],
   "source": [
    "def create_genesis_block():\n",
    "    return Block(0, date.datetime.now(), {\"proof-of-work\": 1,\"transactions\": None}, \"0\")"
   ]
  },
  {
   "cell_type": "code",
   "execution_count": 5,
   "metadata": {
    "collapsed": true
   },
   "outputs": [],
   "source": [
    "miner_address = \"miner\"\n",
    "# This node's blockchain copy\n",
    "blockchain = []\n",
    "blockchain.append(create_genesis_block())"
   ]
  },
  {
   "cell_type": "code",
   "execution_count": 6,
   "metadata": {
    "collapsed": true
   },
   "outputs": [],
   "source": [
    "this_nodes_transactions = []\n",
    "peer_nodes = [] #to be expanded over many nodes in a p2p network\n",
    "mining = True"
   ]
  },
  {
   "cell_type": "code",
   "execution_count": 7,
   "metadata": {
    "collapsed": true
   },
   "outputs": [],
   "source": [
    "@node.route('/txion', methods=['POST'])\n",
    "def transaction():\n",
    "    # On each new POST request, extract the transaction data\n",
    "    new_txion = request.get_json()\n",
    "    this_nodes_transactions.append(new_txion)\n",
    "    # Log it to console\n",
    "    print \"New transaction\"\n",
    "    #print \"FROM: {}\".format(new_txion['from'].encode('ascii','replace'))\n",
    "    #print \"TO: {}\".format(new_txion['to'].encode('ascii','replace'))\n",
    "    print \"DATA: {}\\n\".format(new_txion['data'])\n",
    "    \n",
    "    return \"Transaction successful\\n\""
   ]
  },
  {
   "cell_type": "code",
   "execution_count": 8,
   "metadata": {
    "collapsed": true
   },
   "outputs": [],
   "source": [
    "@node.route('/blocks', methods=['GET'])\n",
    "def get_blocks():\n",
    "    chain_to_send = blockchain\n",
    "    # Convert our blocks into dictionaries so we can send them as json objects later\n",
    "    for i in range(len(chain_to_send)):\n",
    "        block = chain_to_send[i]\n",
    "        block_index = str(block.index)\n",
    "        block_timestamp = str(block.timestamp)\n",
    "        block_data = str(block.data)\n",
    "        block_hash = block.hash\n",
    "        chain_to_send[i] = {\n",
    "          \"index\": block_index,\n",
    "          \"timestamp\": block_timestamp,\n",
    "          \"data\": block_data,\n",
    "          \"hash\": block_hash\n",
    "        }\n",
    "    chain_to_send = json.dumps(chain_to_send)\n",
    "    return chain_to_send\n",
    "\n",
    "def find_new_chains():\n",
    "    # Get the blockchains of every other node\n",
    "    other_chains = []\n",
    "    for node_url in peer_nodes:\n",
    "        block = requests.get(node_url + \"/blocks\").content\n",
    "        block = json.loads(block)\n",
    "        other_chains.append(block)\n",
    "    return other_chains\n",
    "\n",
    "def consensus():\n",
    "    other_chains = find_new_chains()\n",
    "    longest_chain = blockchain\n",
    "    for chain in other_chains:\n",
    "        if len(longest_chain) < len(chain):\n",
    "            longest_chain = chain\n",
    "    blockchain = longest_chain\n",
    "\n",
    "def proof_of_work(last_proof):\n",
    "    incrementor = last_proof + 1\n",
    "    # Keep incrementing the incrementor until\n",
    "    # it's equal to a number divisible by 9\n",
    "    # and the proof of work of the previous\n",
    "    # block in the chain\n",
    "    while not (incrementor % 999999 == 0 and incrementor % last_proof == 0):\n",
    "        incrementor += 1\n",
    "        # Once that number is found,\n",
    "        # we can return it as a proof\n",
    "        # of our work\n",
    "    return incrementor/999999 + last_proof"
   ]
  },
  {
   "cell_type": "code",
   "execution_count": 9,
   "metadata": {
    "collapsed": true
   },
   "outputs": [],
   "source": [
    "@node.route('/mine', methods = ['GET'])\n",
    "def mine():\n",
    "    last_block = blockchain[len(blockchain) - 1]\n",
    "    last_proof = last_block.data['proof-of-work']\n",
    "    proof = proof_of_work(last_proof)\n",
    "      # we reward the miner by adding a transaction \"from\": \"network\", \"to\": miner_address, \n",
    "    this_nodes_transactions.append({ \"data\": \"Transaction mined by miner\" })\n",
    "      # Now we can gather the data needed\n",
    "      # to create the new block\n",
    "    new_block_data = {\n",
    "        \"proof-of-work\": proof,\n",
    "        \"transactions\": list(this_nodes_transactions)\n",
    "      }\n",
    "    new_block_index = last_block.index + 1\n",
    "    new_block_timestamp = this_timestamp = date.datetime.now()\n",
    "    last_block_hash = last_block.hash\n",
    "    # Empty transaction list\n",
    "    this_nodes_transactions[:] = []\n",
    "    mined_block = Block(new_block_index,new_block_timestamp,new_block_data,last_block_hash)\n",
    "    blockchain.append(mined_block)\n",
    "    # Let the client know we mined a block\n",
    "    return json.dumps({\n",
    "          \"index\": new_block_index,\n",
    "          \"timestamp\": str(new_block_timestamp),\n",
    "          \"data\": new_block_data,\n",
    "          \"hash\": last_block_hash\n",
    "      }) + \"\\n\"\n",
    "\n"
   ]
  },
  {
   "cell_type": "code",
   "execution_count": 10,
   "metadata": {},
   "outputs": [
    {
     "name": "stderr",
     "output_type": "stream",
     "text": [
      " * Running on http://127.0.0.1:5000/ (Press CTRL+C to quit)\n",
      "127.0.0.1 - - [08/Feb/2018 14:34:31] \"POST /txion HTTP/1.1\" 200 -\n"
     ]
    },
    {
     "name": "stdout",
     "output_type": "stream",
     "text": [
      "New transaction\n",
      "DATA: Hello, this is message 1\n",
      "\n"
     ]
    },
    {
     "name": "stderr",
     "output_type": "stream",
     "text": [
      "127.0.0.1 - - [08/Feb/2018 14:34:33] \"POST /txion HTTP/1.1\" 200 -\n"
     ]
    },
    {
     "name": "stdout",
     "output_type": "stream",
     "text": [
      "New transaction\n",
      "DATA: Hello, this is message 2\n",
      "\n"
     ]
    },
    {
     "name": "stderr",
     "output_type": "stream",
     "text": [
      "127.0.0.1 - - [08/Feb/2018 14:34:34] \"POST /txion HTTP/1.1\" 200 -\n"
     ]
    },
    {
     "name": "stdout",
     "output_type": "stream",
     "text": [
      "New transaction\n",
      "DATA: Hello, this is message 3\n",
      "\n"
     ]
    },
    {
     "name": "stderr",
     "output_type": "stream",
     "text": [
      "127.0.0.1 - - [08/Feb/2018 14:34:36] \"POST /txion HTTP/1.1\" 200 -\n"
     ]
    },
    {
     "name": "stdout",
     "output_type": "stream",
     "text": [
      "New transaction\n",
      "DATA: Hello, this is message 4\n",
      "\n"
     ]
    },
    {
     "name": "stderr",
     "output_type": "stream",
     "text": [
      "127.0.0.1 - - [08/Feb/2018 14:34:37] \"GET /mine HTTP/1.1\" 200 -\n",
      "127.0.0.1 - - [08/Feb/2018 14:34:43] \"POST /txion HTTP/1.1\" 200 -\n"
     ]
    },
    {
     "name": "stdout",
     "output_type": "stream",
     "text": [
      "New transaction\n",
      "DATA: Hello, this is message 5\n",
      "\n"
     ]
    },
    {
     "name": "stderr",
     "output_type": "stream",
     "text": [
      "127.0.0.1 - - [08/Feb/2018 14:34:45] \"POST /txion HTTP/1.1\" 200 -\n"
     ]
    },
    {
     "name": "stdout",
     "output_type": "stream",
     "text": [
      "New transaction\n",
      "DATA: Hello, this is message 6\n",
      "\n"
     ]
    },
    {
     "name": "stderr",
     "output_type": "stream",
     "text": [
      "127.0.0.1 - - [08/Feb/2018 14:34:48] \"POST /txion HTTP/1.1\" 200 -\n"
     ]
    },
    {
     "name": "stdout",
     "output_type": "stream",
     "text": [
      "New transaction\n",
      "DATA: Hello, this is message 7\n",
      "\n"
     ]
    },
    {
     "name": "stderr",
     "output_type": "stream",
     "text": [
      "127.0.0.1 - - [08/Feb/2018 14:34:50] \"GET /mine HTTP/1.1\" 200 -\n",
      "127.0.0.1 - - [08/Feb/2018 14:34:57] \"GET /blocks HTTP/1.1\" 200 -\n"
     ]
    }
   ],
   "source": [
    "node.run()\n",
    "#node.run(host='0.0.0.0') #mention IP address in a p2p network"
   ]
  },
  {
   "cell_type": "markdown",
   "metadata": {},
   "source": [
    "# Add transaction command:\n",
    "# curl \"localhost:5000/txion\"      -H \"Content-Type: application/json\"      -d '{\"data\": \"Hello, this is message 1\"}'\n"
   ]
  },
  {
   "cell_type": "markdown",
   "metadata": {},
   "source": [
    "# mining \n",
    "# curl \"localhost:5000/mine\""
   ]
  },
  {
   "cell_type": "markdown",
   "metadata": {},
   "source": [
    "# blocks to be viewed\n",
    "# curl \"localhost:5000/blocks\""
   ]
  }
 ],
 "metadata": {
  "kernelspec": {
   "display_name": "Python 3",
   "language": "python",
   "name": "python3"
  },
  "language_info": {
   "codemirror_mode": {
    "name": "ipython",
    "version": 3
   },
   "file_extension": ".py",
   "mimetype": "text/x-python",
   "name": "python",
   "nbconvert_exporter": "python",
   "pygments_lexer": "ipython3",
   "version": "3.6.3"
  }
 },
 "nbformat": 4,
 "nbformat_minor": 2
}
